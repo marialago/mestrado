{
  "cells": [
    {
      "cell_type": "markdown",
      "metadata": {
        "id": "Pu3ptgAQnF6h"
      },
      "source": [
        "# Exercícios Recursão"
      ]
    },
    {
      "cell_type": "markdown",
      "metadata": {
        "id": "QdaD9Te4nF6y"
      },
      "source": [
        "1.25. Recursão é uma abordagem para solucionar problemas que envolve dividir a tarefa em partes menores do mesmo tipo, i.e. é uma abordagem do tipo dividir-para-conquistar. Do ponto de vista computacional, um problema resolvido usando recursão envolve uma função que chama a si mesma até que o problema seja resolvido. Uma parte importante desse tipo de solução é a definição do ponto de parada da recursão, quando a função para de chamar a si mesma e começar a retornar os valores para as chamadas mais \"acima\". Implemente um exemplo de recursão para o cálculo do fatorial de um número *n*:"
      ]
    },
    {
      "cell_type": "code",
      "execution_count": 1,
      "metadata": {
        "id": "_uSu1qeLnF6y"
      },
      "outputs": [],
      "source": [
        "def fatorial(n):\n",
        "    if n == 0 or n == 1:\n",
        "        return 1\n",
        "    return n * fatorial(n - 1)"
      ]
    },
    {
      "cell_type": "markdown",
      "metadata": {
        "id": "022EoP7MnF6y"
      },
      "source": [
        "Agora implemente uma função recursiva que recebe um número e retorna o número correspondente na sequência de Fibonacci."
      ]
    },
    {
      "cell_type": "code",
      "execution_count": 2,
      "metadata": {
        "id": "L5dEF9swnF6y"
      },
      "outputs": [],
      "source": [
        "def fibonacci(n):\n",
        "    if n == 0:\n",
        "        return 0\n",
        "    elif n == 1:\n",
        "        return 1\n",
        "    return fibonacci(n - 1) + fibonacci(n - 2)"
      ]
    },
    {
      "cell_type": "markdown",
      "metadata": {
        "id": "V0ZUK4iqnF6z"
      },
      "source": [
        "1.26. (Algoritmo de ordenação: Bubble sort). Bubble sort é um algoritmo muito simples. Ele começa no início da lista e compara os dois primeiros elementos. Se o primeiro for maior do que o segundo, eles são trocados. Esse processo se repete para cada par subsequente, até o final da lista. Depois o algoritmo volta ao início da lista e recomeça o processo, repetindo-o até não haver mais trocas. Implemente uma função que recebe uma lista e retorna seus elementos ordenados usando o algoritmo bubble sort."
      ]
    },
    {
      "cell_type": "code",
      "execution_count": 3,
      "metadata": {
        "id": "Sho4HEPgnF6z"
      },
      "outputs": [],
      "source": [
        "def bubble_sort(lista):\n",
        "    n = len(lista)\n",
        "    for i in range(n):\n",
        "        for j in range(0, n-i-1):\n",
        "            if lista[j] > lista[j+1]:\n",
        "                lista[j], lista[j+1] = lista[j+1], lista[j]\n",
        "    return lista"
      ]
    },
    {
      "cell_type": "markdown",
      "metadata": {
        "id": "ozNgtU9UnF6z"
      },
      "source": [
        "1.27. (Algoritmo de ordenação: Insertion sort). Algoritmo relativamente eficiente para listas pequenas e comumente usado como parte de algoritmos mais sofisticados. Ele funciona da seguinte maneira: a cada iteração, o algoritmo remove um elemento da lista, encontra seu lugar na lista ordenada e insere o elemento. Assim, a parte ordenada da lista cresce a cada iteração. A ordenação é feita na própria lista. A cada posição da lista, o algoritmo compara seu valor com o maior valor da parte ordenada. Se for maior, o elemento é mntido e o algoritmo passa para a próxima posição. Se for menor, ele acha a posição correta do elemento na parte ordenada e move todos os valores maiores para abrir espaço e inserir o elemento. Implemente uma função que recebe uma lista e retorna seus elementos ordenados usando o algoritmo insertion sort."
      ]
    },
    {
      "cell_type": "code",
      "execution_count": 4,
      "metadata": {
        "id": "G_RfoRcJnF6z"
      },
      "outputs": [],
      "source": [
        "def insertion_sort(lista):\n",
        "    for i in range(1, len(lista)):\n",
        "        chave = lista[i]\n",
        "        j = i - 1\n",
        "        while j >= 0 and lista[j] > chave:\n",
        "            lista[j + 1] = lista[j]\n",
        "            j -= 1\n",
        "        lista[j + 1] = chave\n",
        "    return lista\n"
      ]
    },
    {
      "cell_type": "markdown",
      "metadata": {
        "id": "L3DkMWVNnF6z"
      },
      "source": [
        "1.28. (Algoritmo de ordenação: Selection sort). O selection sort divide o array de entrada em duas partes: a parte ordenada, que ocupa a extremidade esquerda do array, e a parte não-ordenada, que ocupa a parte direita do array. O algoritmo busca o menor elemento da parte não-ordenada e o troca com o elemento mais à esquerda da parte não-ordenada, movendo a fronteira entre as duas partes do array uma posição para a direita. O selection sort é quadrático em todos os casos. Implemente uma função que recebe uma lista e retorna seus elementos ordenados usando o algoritmo selection sort."
      ]
    },
    {
      "cell_type": "code",
      "execution_count": 5,
      "metadata": {
        "id": "u6CJ6H43nF6z"
      },
      "outputs": [],
      "source": [
        "def selection_sort(lista):\n",
        "    n = len(lista)\n",
        "    for i in range(n):\n",
        "        min_idx = i\n",
        "        for j in range(i+1, n):\n",
        "            if lista[j] < lista[min_idx]:\n",
        "                min_idx = j\n",
        "        lista[i], lista[min_idx] = lista[min_idx], lista[i]\n",
        "    return lista"
      ]
    },
    {
      "cell_type": "markdown",
      "metadata": {
        "id": "AZHC1phPnF6z"
      },
      "source": [
        "1.29. (Algoritmo de ordenação: Merge sort). Usa a abordagem dividir para conquistar, aproveitando-se da facilidade de unir duas listas ordenadas em uma nova lista. O algoritmo divide a lista em n listas, cada uma com um elemeno. Uma lista com 1 elemento é considerada ordenada. Depois, o algoritmo repetidamente une arrays adjacentes, produzindo novos arrays ordenados, até que o único array restante contenha todos os elementos ordenados. Para unir dois arrays ordenados, o algoritmo seleciona o menor elemento de cada array e os compara, colocando o menor na primeira posição livre do novo array, e comparando o elemento que sobrou com o novo menor elemento do outro array e assim sucessivamente. Implemente uma função que recebe uma lista e retorna seus elementos ordenados usando o algoritmo merge sort.         "
      ]
    },
    {
      "cell_type": "code",
      "execution_count": 6,
      "metadata": {
        "id": "zyfMnZjvnF6z"
      },
      "outputs": [],
      "source": [
        "def merge_sort(lista):\n",
        "    if len(lista) <= 1:\n",
        "        return lista\n",
        "\n",
        "    meio = len(lista) // 2\n",
        "    esquerda = merge_sort(lista[:meio])\n",
        "    direita = merge_sort(lista[meio:])\n",
        "\n",
        "    return merge(esquerda, direita)\n",
        "\n",
        "def merge(esq, dir):\n",
        "    resultado = []\n",
        "    i = j = 0\n",
        "\n",
        "    while i < len(esq) and j < len(dir):\n",
        "        if esq[i] < dir[j]:\n",
        "            resultado.append(esq[i])\n",
        "            i += 1\n",
        "        else:\n",
        "            resultado.append(dir[j])\n",
        "            j += 1\n",
        "\n",
        "    resultado.extend(esq[i:])\n",
        "    resultado.extend(dir[j:])\n",
        "\n",
        "    return resultado"
      ]
    },
    {
      "cell_type": "markdown",
      "metadata": {
        "id": "cMVMPeZLnF6z"
      },
      "source": [
        "1.30. (Algoritmo de ordenação: Quicksort). Assim como o merge sort, o quicksort é um algoritmo que usa a abordagem dividir para conquistar, mais especificamente, uma abordagem de partição. O algoritmo seleciona um elemento, chamado de pivô, e coloca todos os elementos menores do que o pivô antes dele e todos os maiores depois dele. Os dois sub-arrays são então recursivamente ordenados, seguindo o mesmo processo. Implementações eficientes do quicksort estão entre os algoritmos de ordenação mais rápidos na prática. Implemente uma função que recebe uma lista e retorna seus elementos ordenados usando o algoritmo quicksort."
      ]
    },
    {
      "cell_type": "code",
      "execution_count": 7,
      "metadata": {
        "id": "hD6J3nCCnF6z"
      },
      "outputs": [],
      "source": [
        "def quicksort(lista):\n",
        "    if len(lista) <= 1:\n",
        "        return lista\n",
        "\n",
        "    pivô = lista[0]\n",
        "    menores = [x for x in lista[1:] if x <= pivô]\n",
        "    maiores = [x for x in lista[1:] if x > pivô]\n",
        "\n",
        "    return quicksort(menores) + [pivô] + quicksort(maiores)"
      ]
    }
  ],
  "metadata": {
    "kernelspec": {
      "display_name": "Python 3",
      "language": "python",
      "name": "python3"
    },
    "language_info": {
      "codemirror_mode": {
        "name": "ipython",
        "version": 3
      },
      "file_extension": ".py",
      "mimetype": "text/x-python",
      "name": "python",
      "nbconvert_exporter": "python",
      "pygments_lexer": "ipython3",
      "version": "3.7.3"
    },
    "colab": {
      "provenance": []
    }
  },
  "nbformat": 4,
  "nbformat_minor": 0
}