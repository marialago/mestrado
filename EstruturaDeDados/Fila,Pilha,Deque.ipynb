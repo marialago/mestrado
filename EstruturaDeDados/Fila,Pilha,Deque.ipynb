{
  "nbformat": 4,
  "nbformat_minor": 0,
  "metadata": {
    "colab": {
      "provenance": []
    },
    "kernelspec": {
      "name": "python3",
      "display_name": "Python 3"
    },
    "language_info": {
      "name": "python"
    }
  },
  "cells": [
    {
      "cell_type": "markdown",
      "source": [
        "#FILA , PILHA E DEQUE"
      ],
      "metadata": {
        "id": "1CMpXqE6fhAk"
      }
    },
    {
      "cell_type": "markdown",
      "source": [
        "#Questão 1#\n",
        "Em sala de aula, discutimos que os TADs Pilha, Fila, e Deque podem ser considerados casos específicos do TAD Sequência. Em outras palavras, ao restringirmos a forma que uma Sequência é manipulada, teremos o comportamento esperado de uma Pilha, Fila, ou Deque. Nesta questão, implemente os TADs Pilha, Fila, e Deque com base em listas.\n",
        "\n",
        "a) Pilha – Operações Push, Pop, top, isEmpty, size\n",
        "\n",
        "b) Fila – Operações Queue,Dequeue, peek, isEmpty, size\n",
        "\n",
        "c) Deque – PushBack, PushFront, PopBack, PopFront,Back, Front"
      ],
      "metadata": {
        "id": "rihx2QNofz3g"
      }
    },
    {
      "cell_type": "code",
      "execution_count": 4,
      "metadata": {
        "id": "BI7GIUtIfe9l"
      },
      "outputs": [],
      "source": [
        "#a) Pilha - Operações de Push, Pop, top, isEmpity, size\n",
        "class Pilha:\n",
        "    def __init__(self):\n",
        "        self.itens = []\n",
        "\n",
        "    def push(self, item):\n",
        "        self.itens.append(item)\n",
        "\n",
        "    def pop(self):\n",
        "        if not self.isEmpty():\n",
        "            return self.itens.pop()\n",
        "        else:\n",
        "            return \"Pilha vazia\"\n",
        "\n",
        "    def top(self):\n",
        "        if not self.isEmpty():\n",
        "            return self.itens[-1]\n",
        "        else:\n",
        "            return \"Pilha vazia\"\n",
        "\n",
        "    def isEmpty(self):\n",
        "        return len(self.itens) == 0\n",
        "\n",
        "    def size(self):\n",
        "        return len(self.itens)\n"
      ]
    },
    {
      "cell_type": "code",
      "source": [
        "# Testando a Pilha\n",
        "p = Pilha()\n",
        "p.push(10)\n",
        "p.push(20)\n",
        "p.push(30)\n",
        "print(\"Topo da pilha:\", p.top())\n",
        "print(\"Tamanho:\", p.size())\n",
        "print(\"Removendo:\", p.pop())\n",
        "print(\"Topo agora:\", p.top())\n"
      ],
      "metadata": {
        "id": "5rgBHgifnk3-",
        "outputId": "673ea506-defd-4ce0-bb75-132d1d187b38",
        "colab": {
          "base_uri": "https://localhost:8080/"
        }
      },
      "execution_count": 5,
      "outputs": [
        {
          "output_type": "stream",
          "name": "stdout",
          "text": [
            "Topo da pilha: 30\n",
            "Tamanho: 3\n",
            "Removendo: 30\n",
            "Topo agora: 20\n"
          ]
        }
      ]
    },
    {
      "cell_type": "code",
      "source": [
        "#b) Fila – Operações Queue,Dequeue, peek, isEmpty, size\n",
        "class Fila:\n",
        "    def __init__(self):\n",
        "        self.itens = []\n",
        "\n",
        "    def enqueue(self, item):\n",
        "        self.itens.append(item)\n",
        "\n",
        "    def dequeue(self):\n",
        "        if not self.isEmpty():\n",
        "            return self.itens.pop(0)\n",
        "        else:\n",
        "            return \"Fila vazia\"\n",
        "\n",
        "    def peek(self):\n",
        "        if not self.isEmpty():\n",
        "            return self.itens[0]\n",
        "        else:\n",
        "            return \"Fila vazia\"\n",
        "\n",
        "    def isEmpty(self):\n",
        "        return len(self.itens) == 0\n",
        "\n",
        "    def size(self):\n",
        "        return len(self.itens)\n"
      ],
      "metadata": {
        "id": "Fo8A-pF6nAxn"
      },
      "execution_count": 6,
      "outputs": []
    },
    {
      "cell_type": "code",
      "source": [
        "# Testando a Fila\n",
        "f = Fila()\n",
        "f.enqueue(\"A\")\n",
        "f.enqueue(\"B\")\n",
        "f.enqueue(\"C\")\n",
        "print(\"Primeiro da fila:\", f.peek())\n",
        "print(\"Tamanho:\", f.size())\n",
        "print(\"Removendo:\", f.dequeue())\n",
        "print(\"Primeiro agora:\", f.peek())\n"
      ],
      "metadata": {
        "id": "fMfzAG5Lnq2G",
        "outputId": "b458955a-fd73-4bb6-801a-cd02a8e0b047",
        "colab": {
          "base_uri": "https://localhost:8080/"
        }
      },
      "execution_count": 7,
      "outputs": [
        {
          "output_type": "stream",
          "name": "stdout",
          "text": [
            "Primeiro da fila: A\n",
            "Tamanho: 3\n",
            "Removendo: A\n",
            "Primeiro agora: B\n"
          ]
        }
      ]
    },
    {
      "cell_type": "code",
      "source": [
        "#c) Deque\n",
        "class Deque:\n",
        "    def __init__(self):\n",
        "        self.itens = []\n",
        "\n",
        "    def pushFront(self, item):\n",
        "        self.itens.insert(0, item)\n",
        "\n",
        "    def pushBack(self, item):\n",
        "        self.itens.append(item)\n",
        "\n",
        "    def popFront(self):\n",
        "        if not self.isEmpty():\n",
        "            return self.itens.pop(0)\n",
        "        else:\n",
        "            return \"Deque vazio\"\n",
        "\n",
        "    def popBack(self):\n",
        "        if not self.isEmpty():\n",
        "            return self.itens.pop()\n",
        "        else:\n",
        "            return \"Deque vazio\"\n",
        "\n",
        "    def front(self):\n",
        "        if not self.isEmpty():\n",
        "            return self.itens[0]\n",
        "        else:\n",
        "            return \"Deque vazio\"\n",
        "\n",
        "    def back(self):\n",
        "        if not self.isEmpty():\n",
        "            return self.itens[-1]\n",
        "        else:\n",
        "            return \"Deque vazio\"\n",
        "\n",
        "    def isEmpty(self):\n",
        "        return len(self.itens) == 0\n",
        "\n",
        "    def size(self):\n",
        "        return len(self.itens)\n"
      ],
      "metadata": {
        "id": "KDgJdfEXnK6O"
      },
      "execution_count": 8,
      "outputs": []
    },
    {
      "cell_type": "code",
      "source": [
        "# Testando o Deque\n",
        "d = Deque()\n",
        "d.pushBack(1)\n",
        "d.pushFront(2)\n",
        "d.pushBack(3)\n",
        "print(\"Front:\", d.front())\n",
        "print(\"Back:\", d.back())\n",
        "print(\"Removendo frente:\", d.popFront())\n",
        "print(\"Removendo trás:\", d.popBack())\n"
      ],
      "metadata": {
        "id": "1SgDfy7lnvv_",
        "outputId": "088c704b-7691-43f7-fae2-66ccff190728",
        "colab": {
          "base_uri": "https://localhost:8080/"
        }
      },
      "execution_count": 9,
      "outputs": [
        {
          "output_type": "stream",
          "name": "stdout",
          "text": [
            "Front: 2\n",
            "Back: 3\n",
            "Removendo frente: 2\n",
            "Removendo trás: 3\n"
          ]
        }
      ]
    },
    {
      "cell_type": "markdown",
      "source": [
        "#Questão 2:\n",
        "Suponha que você já possui uma estrutura Pilha implementada corretamente. Reuse esta estrutura\n",
        "Pilha para implementar uma estrutura Fila. Em outras palavras, implemente uma estrutura Fila usando\n",
        "internamente uma ou mais estruturas Pilha. Lembre-se que as operações da Fila devem obedecer a estratégia\n",
        "FIFO."
      ],
      "metadata": {
        "id": "Wpeb1W_Rf0Gt"
      }
    },
    {
      "cell_type": "code",
      "source": [
        "class FilaComPilhas:\n",
        "    def __init__(self):\n",
        "        self.pilha_entrada = Pilha()\n",
        "        self.pilha_saida = Pilha()\n",
        "\n",
        "    def enqueue(self, item):\n",
        "        self.pilha_entrada.push(item)\n",
        "\n",
        "    def dequeue(self):\n",
        "        if self.pilha_saida.isEmpty():\n",
        "            while not self.pilha_entrada.isEmpty():\n",
        "                elemento = self.pilha_entrada.pop()\n",
        "                self.pilha_saida.push(elemento)\n",
        "\n",
        "        if not self.pilha_saida.isEmpty():\n",
        "            return self.pilha_saida.pop()\n",
        "        else:\n",
        "            return \"Fila vazia\"\n",
        "\n",
        "    def isEmpty(self):\n",
        "        return self.pilha_entrada.isEmpty() and self.pilha_saida.isEmpty()\n",
        "\n",
        "    def size(self):\n",
        "        return self.pilha_entrada.size() + self.pilha_saida.size()\n",
        "\n",
        "    def peek(self):\n",
        "        if self.pilha_saida.isEmpty():\n",
        "            while not self.pilha_entrada.isEmpty():\n",
        "                elemento = self.pilha_entrada.pop()\n",
        "                self.pilha_saida.push(elemento)\n",
        "\n",
        "        if not self.pilha_saida.isEmpty():\n",
        "            return self.pilha_saida.top()\n",
        "        else:\n",
        "            return \"Fila vazia\"\n"
      ],
      "metadata": {
        "id": "SCxms-qRgyM1"
      },
      "execution_count": 10,
      "outputs": []
    },
    {
      "cell_type": "code",
      "source": [
        "f = FilaComPilhas()\n",
        "f.enqueue(10)\n",
        "f.enqueue(20)\n",
        "f.enqueue(30)\n",
        "print(f.dequeue())\n",
        "print(f.peek())\n",
        "print(f.dequeue())\n",
        "print(f.dequeue())\n",
        "print(f.dequeue())\n"
      ],
      "metadata": {
        "id": "POx936KMoH-v",
        "outputId": "bad0c38b-852a-406f-d6ba-fd212557d0c6",
        "colab": {
          "base_uri": "https://localhost:8080/"
        }
      },
      "execution_count": 11,
      "outputs": [
        {
          "output_type": "stream",
          "name": "stdout",
          "text": [
            "10\n",
            "20\n",
            "20\n",
            "30\n",
            "Fila vazia\n"
          ]
        }
      ]
    },
    {
      "cell_type": "markdown",
      "source": [
        "#Questão 3:\n",
        "Palíndromo é a frase ou palavra que mantém o mesmo sentido quando lida de trás pra frente. São\n",
        "exemplos de palíndromo: \"arara\", \"osso\", \"reler\", \"somos\", e “amor à roma”. Podemos também considerar\n",
        "palíndromos algumas combinações de palavras em que desprezamos pontuações, acentos e espaços em branco,\n",
        "como por exemplo: “ralo do dólar”, “até o poeta”, “após a sopa”, etc.\n",
        "Neste contexto:\n",
        "\n",
        "a) Use uma Pilha para projetar uma função que recebe uma string como entrada e verifica se ela é ou não um palíndromo.\n",
        "\n",
        "b) Use um Deque para projetar uma função que recebe uma string como entrada e verifica se ela é ou não um palíndromo."
      ],
      "metadata": {
        "id": "xf04t8Utf0OH"
      }
    },
    {
      "cell_type": "code",
      "source": [
        "class Pilha:\n",
        "    def __init__(self):\n",
        "        self.itens = []\n",
        "\n",
        "    def push(self, item):\n",
        "        self.itens.append(item)\n",
        "\n",
        "    def pop(self):\n",
        "        if not self.isEmpty():\n",
        "            return self.itens.pop()\n",
        "        return None\n",
        "\n",
        "    def isEmpty(self):\n",
        "        return len(self.itens) == 0\n",
        "\n",
        "def limpar_texto(texto):\n",
        "    return ''.join(c.lower() for c in texto if c.isalnum())\n",
        "\n",
        "def eh_palindromo_pilha(texto):\n",
        "    texto_limpo = limpar_texto(texto)\n",
        "    pilha = Pilha()\n",
        "\n",
        "    for char in texto_limpo:\n",
        "        pilha.push(char)\n",
        "\n",
        "    for char in texto_limpo:\n",
        "        if char != pilha.pop():\n",
        "            return False\n",
        "\n",
        "    return True\n",
        "\n",
        "# Teste\n",
        "entrada = input(\"Digite a frase ou palavra: \")\n",
        "if eh_palindromo_pilha(entrada):\n",
        "    print(\"É palíndromo!\")\n",
        "else:\n",
        "    print(\"Não é palíndromo!\")\n"
      ],
      "metadata": {
        "id": "gf0W0wmqgzcr",
        "colab": {
          "base_uri": "https://localhost:8080/"
        },
        "outputId": "7e5eeaad-c34b-4e0c-c7b3-c64e6fc8b2b2"
      },
      "execution_count": 14,
      "outputs": [
        {
          "output_type": "stream",
          "name": "stdout",
          "text": [
            "Digite a frase ou palavra: somos\n",
            "É palíndromo!\n"
          ]
        }
      ]
    },
    {
      "cell_type": "code",
      "source": [
        "class Deque:\n",
        "    def __init__(self):\n",
        "        self.itens = []\n",
        "\n",
        "    def pushFront(self, item):\n",
        "        self.itens.insert(0, item)\n",
        "\n",
        "    def pushBack(self, item):\n",
        "        self.itens.append(item)\n",
        "\n",
        "    def popFront(self):\n",
        "        if not self.isEmpty():\n",
        "            return self.itens.pop(0)\n",
        "        return None\n",
        "\n",
        "    def popBack(self):\n",
        "        if not self.isEmpty():\n",
        "            return self.itens.pop()\n",
        "        return None\n",
        "\n",
        "    def isEmpty(self):\n",
        "        return len(self.itens) == 0\n",
        "\n",
        "def limpar_texto(texto):\n",
        "    return ''.join(c.lower() for c in texto if c.isalnum())\n",
        "\n",
        "def eh_palindromo_deque(texto):\n",
        "    texto_limpo = limpar_texto(texto)\n",
        "    deque = Deque()\n",
        "\n",
        "    for char in texto_limpo:\n",
        "        deque.pushBack(char)\n",
        "\n",
        "    while len(deque.itens) > 1:\n",
        "        frente = deque.popFront()\n",
        "        tras = deque.popBack()\n",
        "        if frente != tras:\n",
        "            return False\n",
        "\n",
        "    return True\n",
        "\n",
        "# Teste\n",
        "entrada = input(\"Digite a frase ou palavra: \")\n",
        "if eh_palindromo_deque(entrada):\n",
        "    print(\"É palíndromo!\")\n",
        "else:\n",
        "    print(\"Não é palíndromo!\")\n"
      ],
      "metadata": {
        "id": "aeVdJpD1pK8Q",
        "outputId": "ef2f1a7a-6078-491f-aaba-634b51c24b6e",
        "colab": {
          "base_uri": "https://localhost:8080/"
        }
      },
      "execution_count": 15,
      "outputs": [
        {
          "output_type": "stream",
          "name": "stdout",
          "text": [
            "Digite a frase ou palavra: amor a roma\n",
            "É palíndromo!\n"
          ]
        }
      ]
    },
    {
      "cell_type": "markdown",
      "source": [
        "#Questão 4\n",
        "Dado duas pilhas P1 e P2 que armazenam números inteiros, faça um programa que tenha as seguintes funções:\n",
        "1. Uma função para testar se as duas pilhas P1 e P2 são iguais. Caso não forem iguais diga qual pilha é maior\n",
        "2. Uma função que forneça o maior, o menor e a média aritmética dos elementos de uma pilha.\n",
        "3. Uma função para transferir elementos de P1 para P2 (copia).\n",
        "4. Uma função para retornar o número de elementos de uma pilha que possuem valor ímpar.\n",
        "5. Uma função para retornar o número de elementos da uma pilha que possuem valor par"
      ],
      "metadata": {
        "id": "4svL3Kc_g15P"
      }
    },
    {
      "cell_type": "code",
      "source": [
        "class Pilha:\n",
        "    def __init__(self):\n",
        "        self.itens = []\n",
        "\n",
        "    def push(self, item):\n",
        "        self.itens.append(item)\n",
        "\n",
        "    def pop(self):\n",
        "        if not self.isEmpty():\n",
        "            return self.itens.pop()\n",
        "        return None\n",
        "\n",
        "    def top(self):\n",
        "        if not self.isEmpty():\n",
        "            return self.itens[-1]\n",
        "        return None\n",
        "\n",
        "    def isEmpty(self):\n",
        "        return len(self.itens) == 0\n",
        "\n",
        "    def size(self):\n",
        "        return len(self.itens)\n",
        "\n",
        "    def mostrar(self):\n",
        "        print(self.itens)\n"
      ],
      "metadata": {
        "id": "yx6RkNp8g2Bc"
      },
      "execution_count": 16,
      "outputs": []
    },
    {
      "cell_type": "code",
      "source": [
        "def pilhas_iguais(p1, p2):\n",
        "    return p1.itens == p2.itens\n",
        "\n",
        "def comparar_pilhas(p1, p2):\n",
        "    if pilhas_iguais(p1, p2):\n",
        "        print(\"As pilhas são iguais.\")\n",
        "    elif p1.size() > p2.size():\n",
        "        print(\"P1 é maior.\")\n",
        "    elif p2.size() > p1.size():\n",
        "        print(\"P2 é maior.\")\n",
        "    else:\n",
        "        print(\"As pilhas têm tamanhos iguais, mas conteúdos diferentes.\")\n",
        "\n",
        "def estatisticas_pilha(pilha):\n",
        "    if pilha.isEmpty():\n",
        "        print(\"A pilha está vazia.\")\n",
        "        return\n",
        "\n",
        "    elementos = pilha.itens.copy()\n",
        "    maior = max(elementos)\n",
        "    menor = min(elementos)\n",
        "    media = sum(elementos) / len(elementos)\n",
        "\n",
        "    print(f\"Maior: {maior}, Menor: {menor}, Média: {media:.2f}\")\n",
        "\n",
        "def copiar_pilha(p1, p2):\n",
        "    p2.itens = p1.itens.copy()\n",
        "    print(\"Pilha copiada com sucesso.\")\n",
        "\n",
        "def contar_impares(pilha):\n",
        "    return sum(1 for item in pilha.itens if item % 2 != 0)\n",
        "\n",
        "def contar_pares(pilha):\n",
        "    return sum(1 for item in pilha.itens if item % 2 == 0)\n",
        "\n",
        "p1 = Pilha()\n",
        "p2 = Pilha()\n",
        "\n",
        "for num in [1, 2, 3, 4, 5]:\n",
        "    p1.push(num)\n",
        "\n",
        "for num in [1, 2, 3, 4, 5]:\n",
        "    p2.push(num)\n",
        "\n",
        "comparar_pilhas(p1, p2)\n",
        "\n",
        "estatisticas_pilha(p1)\n",
        "\n",
        "copiar_pilha(p1, p2)\n",
        "print(\"Nova P2:\", p2.itens)\n",
        "\n",
        "print(\"Quantidade de ímpares em P1:\", contar_impares(p1))\n",
        "print(\"Quantidade de pares em P1:\", contar_pares(p1))\n"
      ],
      "metadata": {
        "id": "Kxf7rq8zpdZe",
        "outputId": "886a8c95-baf3-4f5a-f85b-0ab97f2fc462",
        "colab": {
          "base_uri": "https://localhost:8080/"
        }
      },
      "execution_count": 24,
      "outputs": [
        {
          "output_type": "stream",
          "name": "stdout",
          "text": [
            "As pilhas são iguais.\n",
            "Maior: 5, Menor: 1, Média: 3.00\n",
            "Pilha copiada com sucesso.\n",
            "Nova P2: [1, 2, 3, 4, 5]\n",
            "Quantidade de ímpares em P1: 3\n",
            "Quantidade de pares em P1: 2\n"
          ]
        }
      ]
    },
    {
      "cell_type": "markdown",
      "source": [
        "#Questão 5.\n",
        "Crie um MÉTODO que retira todos os elementos ímpares da fila, mantendo a ordem original dos\n",
        "elementos pares da fila. Os elementos pares devem ser removidos temporariamente para uma pilha e depois\n",
        "retornados para a fila assim que os elementos ímpares forem removidos."
      ],
      "metadata": {
        "id": "LVeHiP3Ug2Pr"
      }
    },
    {
      "cell_type": "code",
      "source": [
        "class Fila:\n",
        "    def __init__(self):\n",
        "        self.itens = []\n",
        "\n",
        "    def enqueue(self, item):\n",
        "        self.itens.append(item)\n",
        "\n",
        "    def dequeue(self):\n",
        "        if not self.isEmpty():\n",
        "            return self.itens.pop(0)\n",
        "        return None\n",
        "\n",
        "    def isEmpty(self):\n",
        "        return len(self.itens) == 0\n",
        "\n",
        "    def mostrar(self):\n",
        "        print(self.itens)\n",
        "\n",
        "class Pilha:\n",
        "    def __init__(self):\n",
        "        self.itens = []\n",
        "\n",
        "    def push(self, item):\n",
        "        self.itens.append(item)\n",
        "\n",
        "    def pop(self):\n",
        "        if not self.isEmpty():\n",
        "            return self.itens.pop()\n",
        "        return None\n",
        "\n",
        "    def isEmpty(self):\n",
        "        return len(self.itens) == 0\n",
        "\n",
        "def manter_apenas_pares(fila):\n",
        "    pilha_pares = Pilha()\n",
        "\n",
        "    tamanho_original = len(fila.itens)\n",
        "    for _ in range(tamanho_original):\n",
        "        elemento = fila.dequeue()\n",
        "        if elemento % 2 == 0:\n",
        "            pilha_pares.push(elemento)\n",
        "\n",
        "    pilha_temp = Pilha()\n",
        "\n",
        "    while not pilha_pares.isEmpty():\n",
        "        pilha_temp.push(pilha_pares.pop())\n",
        "\n",
        "    while not pilha_temp.isEmpty():\n",
        "        fila.enqueue(pilha_temp.pop())\n",
        "\n",
        "fila = Fila()\n",
        "for num in [1, 2, 3, 4, 5, 6, 7, 8, 9]:\n",
        "    fila.enqueue(num)\n",
        "\n",
        "print(\"Fila original:\")\n",
        "fila.mostrar()\n",
        "\n",
        "manter_apenas_pares(fila)\n",
        "\n",
        "print(\"Fila após remover ímpares (mantendo ordem dos pares):\")\n",
        "fila.mostrar()\n",
        "\n"
      ],
      "metadata": {
        "id": "o2ibURGAg3Sj",
        "colab": {
          "base_uri": "https://localhost:8080/"
        },
        "outputId": "9ec396ea-6121-4706-de46-ad70f4e5916b"
      },
      "execution_count": 28,
      "outputs": [
        {
          "output_type": "stream",
          "name": "stdout",
          "text": [
            "Fila original:\n",
            "[1, 2, 3, 4, 5, 6, 7, 8, 9]\n",
            "Fila após remover ímpares (mantendo ordem dos pares):\n",
            "[2, 4, 6, 8]\n"
          ]
        }
      ]
    },
    {
      "cell_type": "markdown",
      "source": [
        "#Questão 6\n",
        " Apresente o menu de opções abaixo:\n",
        " 1- Cadastrar aluno\n",
        "\n",
        " 2- Cadastrar nota\n",
        "\n",
        " 3- Calcular a média de um aluno\n",
        "\n",
        " 4- Listar os nomes dos alunos sem notas\n",
        "\n",
        " 5- Excluir aluno\n",
        "\n",
        " 7- Sair Observações:\n",
        "\n",
        " a) Cadastre um aluno (número e nome) de cada vez em uma pilha. Os números dos alunos devem ser gerados automaticamente, partindo do nº 1.\n",
        "\n",
        " b) Cadastre uma nota (número do aluno e nota) de cada vez em uma fila. Uma nota só pode ser cadastrada se pertencer a um aluno cadastrado na pilha de alunos. Mostrar mensagem caso o aluno não esteja cadastrado. Valide as notas para que sejam digitadas no intervalo entre 0 e 10.\n",
        "\n",
        " c) O usuário deve digitar o número de aluno para exibir seu nome e sua respectiva média. Caso não existir o aluno ou não houver notas cadastradas para ele emitir mensagem de aviso ao usuário.\n",
        "\n",
        " d) Um aluno só pode ser excluído se não possuir notas. O usuário não deve escolher o aluno a ser excluído, pois deve obedecer às regras de funcionamento da estrutura de dados tipo pilha.\n"
      ],
      "metadata": {
        "id": "0JUnUygRg2Wh"
      }
    },
    {
      "cell_type": "code",
      "source": [
        "class Pilha:\n",
        "    def __init__(self):\n",
        "        self.itens = []\n",
        "\n",
        "    def push(self, item):\n",
        "        self.itens.append(item)\n",
        "\n",
        "    def pop(self):\n",
        "        if not self.isEmpty():\n",
        "            return self.itens.pop()\n",
        "        return None\n",
        "\n",
        "    def isEmpty(self):\n",
        "        return len(self.itens) == 0\n",
        "\n",
        "    def top(self):\n",
        "        if not self.isEmpty():\n",
        "            return self.itens[-1]\n",
        "        return None\n",
        "\n",
        "class Fila:\n",
        "    def __init__(self):\n",
        "        self.itens = []\n",
        "\n",
        "    def enqueue(self, item):\n",
        "        self.itens.append(item)\n",
        "\n",
        "    def dequeue(self):\n",
        "        if not self.isEmpty():\n",
        "            return self.itens.pop(0)\n",
        "        return None\n",
        "\n",
        "    def isEmpty(self):\n",
        "        return len(self.itens) == 0\n",
        "\n",
        "    def listar(self):\n",
        "        return self.itens.copy()\n",
        "\n",
        "def menu():\n",
        "    print(\"\\nMenu de Opções:\")\n",
        "    print(\"1 - Cadastrar aluno\")\n",
        "    print(\"2 - Cadastrar nota\")\n",
        "    print(\"3 - Calcular a média de um aluno\")\n",
        "    print(\"4 - Listar nomes dos alunos sem notas\")\n",
        "    print(\"5 - Excluir aluno (seguindo regra da pilha)\")\n",
        "    print(\"7 - Sair\")\n",
        "\n",
        "# Estruturas de dados\n",
        "alunos = Pilha()\n",
        "notas = Fila()\n",
        "contador_id = 1\n",
        "\n",
        "while True:\n",
        "    menu()\n",
        "    opcao = input(\"Escolha uma opção: \")\n",
        "\n",
        "    if opcao == \"1\":\n",
        "        nome = input(\"Digite o nome do aluno: \")\n",
        "        alunos.push({\"id\": contador_id, \"nome\": nome})\n",
        "        print(f\"Aluno cadastrado com ID {contador_id}.\")\n",
        "        contador_id += 1\n",
        "\n",
        "    elif opcao == \"2\":\n",
        "        try:\n",
        "            num_aluno = int(input(\"Digite o número do aluno: \"))\n",
        "        except ValueError:\n",
        "            print(\"Número inválido.\")\n",
        "            continue\n",
        "\n",
        "        # Verificar se o aluno existe\n",
        "        existe = any(aluno[\"id\"] == num_aluno for aluno in alunos.itens)\n",
        "        if not existe:\n",
        "            print(\"Aluno não cadastrado.\")\n",
        "            continue\n",
        "\n",
        "        try:\n",
        "            nota = float(input(\"Digite a nota (0 a 10): \"))\n",
        "        except ValueError:\n",
        "            print(\"Nota inválida.\")\n",
        "            continue\n",
        "\n",
        "        if 0 <= nota <= 10:\n",
        "            notas.enqueue({\"id\": num_aluno, \"nota\": nota})\n",
        "            print(\"Nota cadastrada com sucesso.\")\n",
        "        else:\n",
        "            print(\"Nota fora do intervalo permitido.\")\n",
        "\n",
        "    elif opcao == \"3\":\n",
        "        try:\n",
        "            num_aluno = int(input(\"Digite o número do aluno: \"))\n",
        "        except ValueError:\n",
        "            print(\"Número inválido.\")\n",
        "            continue\n",
        "\n",
        "        aluno = next((aluno for aluno in alunos.itens if aluno[\"id\"] == num_aluno), None)\n",
        "        if not aluno:\n",
        "            print(\"Aluno não encontrado.\")\n",
        "            continue\n",
        "\n",
        "        # Buscar as notas do aluno\n",
        "        notas_aluno = [n[\"nota\"] for n in notas.itens if n[\"id\"] == num_aluno]\n",
        "        if notas_aluno:\n",
        "            media = sum(notas_aluno) / len(notas_aluno)\n",
        "            print(f\"Aluno: {aluno['nome']}, Média: {media:.2f}\")\n",
        "        else:\n",
        "            print(\"Aluno sem notas cadastradas.\")\n",
        "\n",
        "    elif opcao == \"4\":\n",
        "        ids_com_nota = set(n[\"id\"] for n in notas.itens)\n",
        "        alunos_sem_nota = [a for a in alunos.itens if a[\"id\"] not in ids_com_nota]\n",
        "\n",
        "        if alunos_sem_nota:\n",
        "            print(\"Alunos sem notas:\")\n",
        "            for a in alunos_sem_nota:\n",
        "                print(f\"ID: {a['id']} - Nome: {a['nome']}\")\n",
        "        else:\n",
        "            print(\"Nenhum aluno sem notas.\")\n",
        "\n",
        "    elif opcao == \"5\":\n",
        "        if alunos.isEmpty():\n",
        "            print(\"Nenhum aluno cadastrado.\")\n",
        "            continue\n",
        "\n",
        "        aluno_topo = alunos.top()\n",
        "        tem_nota = any(n[\"id\"] == aluno_topo[\"id\"] for n in notas.itens)\n",
        "        if tem_nota:\n",
        "            print(f\"Aluno {aluno_topo['nome']} não pode ser excluído, pois possui notas.\")\n",
        "        else:\n",
        "            excluido = alunos.pop()\n",
        "            print(f\"Aluno {excluido['nome']} excluído com sucesso.\")\n",
        "\n",
        "    elif opcao == \"7\":\n",
        "        print(\"Encerrando o programa.\")\n",
        "        break\n",
        "\n",
        "    else:\n",
        "        print(\"Opção inválida. Tente novamente.\")\n"
      ],
      "metadata": {
        "id": "6OZJodLhg2wK",
        "colab": {
          "base_uri": "https://localhost:8080/"
        },
        "outputId": "1dd9377a-43c4-4ced-d492-31747949b6f0"
      },
      "execution_count": 30,
      "outputs": [
        {
          "output_type": "stream",
          "name": "stdout",
          "text": [
            "\n",
            "Menu de Opções:\n",
            "1 - Cadastrar aluno\n",
            "2 - Cadastrar nota\n",
            "3 - Calcular a média de um aluno\n",
            "4 - Listar nomes dos alunos sem notas\n",
            "5 - Excluir aluno (seguindo regra da pilha)\n",
            "7 - Sair\n",
            "Escolha uma opção: 3\n",
            "Digite o número do aluno: 3\n",
            "Aluno não encontrado.\n",
            "\n",
            "Menu de Opções:\n",
            "1 - Cadastrar aluno\n",
            "2 - Cadastrar nota\n",
            "3 - Calcular a média de um aluno\n",
            "4 - Listar nomes dos alunos sem notas\n",
            "5 - Excluir aluno (seguindo regra da pilha)\n",
            "7 - Sair\n",
            "Escolha uma opção: 1\n",
            "Digite o nome do aluno: Maria\n",
            "Aluno cadastrado com ID 1.\n",
            "\n",
            "Menu de Opções:\n",
            "1 - Cadastrar aluno\n",
            "2 - Cadastrar nota\n",
            "3 - Calcular a média de um aluno\n",
            "4 - Listar nomes dos alunos sem notas\n",
            "5 - Excluir aluno (seguindo regra da pilha)\n",
            "7 - Sair\n",
            "Escolha uma opção: 2\n",
            "Digite o número do aluno: 1\n",
            "Digite a nota (0 a 10): 7\n",
            "Nota cadastrada com sucesso.\n",
            "\n",
            "Menu de Opções:\n",
            "1 - Cadastrar aluno\n",
            "2 - Cadastrar nota\n",
            "3 - Calcular a média de um aluno\n",
            "4 - Listar nomes dos alunos sem notas\n",
            "5 - Excluir aluno (seguindo regra da pilha)\n",
            "7 - Sair\n",
            "Escolha uma opção: 2\n",
            "Digite o número do aluno: 5\n",
            "Aluno não cadastrado.\n",
            "\n",
            "Menu de Opções:\n",
            "1 - Cadastrar aluno\n",
            "2 - Cadastrar nota\n",
            "3 - Calcular a média de um aluno\n",
            "4 - Listar nomes dos alunos sem notas\n",
            "5 - Excluir aluno (seguindo regra da pilha)\n",
            "7 - Sair\n",
            "Escolha uma opção: 3\n",
            "Digite o número do aluno: 1\n",
            "Aluno: Maria, Média: 7.00\n",
            "\n",
            "Menu de Opções:\n",
            "1 - Cadastrar aluno\n",
            "2 - Cadastrar nota\n",
            "3 - Calcular a média de um aluno\n",
            "4 - Listar nomes dos alunos sem notas\n",
            "5 - Excluir aluno (seguindo regra da pilha)\n",
            "7 - Sair\n",
            "Escolha uma opção: 7\n",
            "Encerrando o programa.\n"
          ]
        }
      ]
    },
    {
      "cell_type": "markdown",
      "source": [
        "#Questão 7\n",
        " João está na fila de um banco esperando ser atendido. Porém, ele precisa sair em exatas uma hora para uma reunião importante. Sabe-se que um caixa leva 4 minutos para chamar a próxima pessoa da fila. João é a 22ª pessoa esperando ser atendida e o caixa chamou, no momento, a 8ª pessoa da fila. Com o auxílio da estrutura de dados fila, implemente um algoritmo que ajude João a descobrir se ele será atendido a tempo ou se ele deve voltar em um outro horário.\n",
        "\n",
        "\n",
        "\n",
        "\n"
      ],
      "metadata": {
        "id": "Z77VM7NVpS_q"
      }
    },
    {
      "cell_type": "code",
      "source": [
        "class Fila:\n",
        "    def __init__(self, tamanho_inicial, atendido_ate_agora):\n",
        "        self.itens = list(range(1, tamanho_inicial + 1))\n",
        "        self.proximo = atendido_ate_agora + 1\n",
        "\n",
        "    def tempo_ate_joao(self, posicao_joao, tempo_por_pessoa):\n",
        "        pessoas_antes_do_joao = posicao_joao - self.proximo\n",
        "        tempo_espera = pessoas_antes_do_joao * tempo_por_pessoa\n",
        "        return tempo_espera\n",
        "\n",
        "total_pessoas = 22\n",
        "ja_atendido = 8\n",
        "tempo_por_pessoa = 4\n",
        "posicao_joao = 22\n",
        "tempo_disponivel = 60\n",
        "\n",
        "fila = Fila(total_pessoas, ja_atendido)\n",
        "\n",
        "tempo_espera_joao = fila.tempo_ate_joao(posicao_joao, tempo_por_pessoa)\n",
        "\n",
        "print(f\"Tempo estimado de espera para João: {tempo_espera_joao} minutos\")\n",
        "\n",
        "if tempo_espera_joao <= tempo_disponivel:\n",
        "    print(\"João será atendido a tempo!\")\n",
        "else:\n",
        "    print(\"João NÃO será atendido a tempo. Melhor voltar outro horário.\")\n"
      ],
      "metadata": {
        "id": "LFGQGhObpWqw",
        "colab": {
          "base_uri": "https://localhost:8080/"
        },
        "outputId": "c9507bd9-1916-465a-b617-6f49bec3df0e"
      },
      "execution_count": 31,
      "outputs": [
        {
          "output_type": "stream",
          "name": "stdout",
          "text": [
            "Tempo estimado de espera para João: 52 minutos\n",
            "João será atendido a tempo!\n"
          ]
        }
      ]
    },
    {
      "cell_type": "markdown",
      "source": [
        "#Questão 7.1\n",
        " Quando o caixa chamou a 14ª pessoa da fila, João percebeu que chegou uma gestante e um idoso ao banco. Estes, como têm prioridade, foram colocados para o início da fila. Sabendo que João pode ficar no banco por mais 36 minutos, o ajude, novamente, a saber se deve esperar ser atendido ou deve voltar em outro momento."
      ],
      "metadata": {
        "id": "MvXQaVH1pW-O"
      }
    },
    {
      "cell_type": "code",
      "source": [
        "tempo_por_pessoa = 4\n",
        "tempo_disponivel_joao = 36\n",
        "\n",
        "caixa_ultimo_chamado = 14\n",
        "\n",
        "inicio_fila_restante = caixa_ultimo_chamado + 1  # 15\n",
        "posicao_joao = 22\n",
        "\n",
        "pessoas_antes_joao = (posicao_joao - inicio_fila_restante) + 1\n",
        "\n",
        "pessoas_antes_joao += 2\n",
        "\n",
        "tempo_espera = pessoas_antes_joao * tempo_por_pessoa\n",
        "\n",
        "print(f\"Pessoas na frente de João (incluindo prioritários): {pessoas_antes_joao}\")\n",
        "print(f\"Tempo estimado de espera para João: {tempo_espera} minutos\")\n",
        "\n",
        "if tempo_espera <= tempo_disponivel_joao:\n",
        "    print(\"João será atendido a tempo!\")\n",
        "else:\n",
        "    print(\"João NÃO será atendido a tempo. Melhor voltar outro horário.\")\n"
      ],
      "metadata": {
        "id": "O60Y0NndpXGW",
        "colab": {
          "base_uri": "https://localhost:8080/"
        },
        "outputId": "25d7eaf6-472f-43f7-ceac-44f338732fec"
      },
      "execution_count": 32,
      "outputs": [
        {
          "output_type": "stream",
          "name": "stdout",
          "text": [
            "Pessoas na frente de João (incluindo prioritários): 10\n",
            "Tempo estimado de espera para João: 40 minutos\n",
            "João NÃO será atendido a tempo. Melhor voltar outro horário.\n"
          ]
        }
      ]
    }
  ]
}