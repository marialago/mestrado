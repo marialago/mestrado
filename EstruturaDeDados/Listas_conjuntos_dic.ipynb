{
  "nbformat": 4,
  "nbformat_minor": 0,
  "metadata": {
    "colab": {
      "provenance": []
    },
    "kernelspec": {
      "name": "python3",
      "display_name": "Python 3"
    },
    "language_info": {
      "name": "python"
    }
  },
  "cells": [
    {
      "cell_type": "markdown",
      "metadata": {
        "id": "va2_qr9VRCxm"
      },
      "source": [
        "# Exercícios"
      ]
    },
    {
      "cell_type": "markdown",
      "metadata": {
        "id": "0ZrVKl2LRHPn"
      },
      "source": [
        "1 - Agora que já temos um bom conhecimentos sobre os conjuntos, voltemos ao exemplo da introdução.\n",
        "\n",
        "Os dados sobre conhecimento em diversos idiomas pelos estudantes da UFRN são guardados em um banco de dados.\n",
        "\n",
        "Após consulta a essa base de dados, a matrícula dos alunos foram salvas nos conjuntos relativos aos idiomas que cada um fala:"
      ]
    },
    {
      "cell_type": "code",
      "execution_count": 2,
      "metadata": {
        "id": "YgOmzQPrRdHa"
      },
      "outputs": [],
      "source": [
        "ingles = {2017992691, 2014731077, 2016127320, 2017673650, 2017675600, 2016071490, 2015763941,2018124856, 2014240183, 2015069118, 2017397627, 2018257434, 2018146279,2018336479, 2016255160, 2016191681, 2017462010, 2015267990, 2018353177,2016316106, 2017534024, 2017435227, 2018485174, 2017511916, 2018252953, 2018230360, 2015896310, 2016403233, 2018036952, 2018223748, 2017106407, 2018928865, 2015808443, 2015490023, 2014680801, 2016797947, 2017169550, 2017741705, 2016449433, 2018701674, 2018681674, 2018822119, 2015629894, 2018552429, 2014160569, 2014812342, 2015241433, 2015633224, 2015938370, 2014994808, 2018682286, 2014920254, 2017952048, 2014899143, 2018459199, 2015659561, 2018886010, 2016111302, 2018528579, 2017559038, 2018248638, 2015560871, 2014569332, 2018652276, 2016701261, 2016308042, 2016310173, 2017705448, 2014399415, 2016268450, 2017608181, 2015981561, 2014964705, 2014655030, 2017687958, 2016162852, 2017223176, 2014759427, 2017290535, 2017031946, 2017042504, 2018916372, 2017757689, 2014922487, 2016080164, 2014792539, 2016110301, 2015200433, 2015667306, 2014891106, 2014748251, 2018911399, 2015008915, 2014976823, 2018870448}\n",
        "espanhol = {2017992691, 2014731077, 2016127320, 2017673650, 2017675600, 2016071490, 2015763941, 2015365994, 2014728861, 2014152867, 2018044073, 2015856913, 2018124856, 2014240183, 2017534024, 2017435227, 2018485174, 2017511916, 2018252953, 2018230360, 2015896310, 2016403233, 2018036952, 2018223748, 2017106407, 2018928865, 2015808443, 2015490023, 2014680801, 2016797947, 2017169550, 2017741705, 2016449433, 2018701674, 2018681674, 2018822119, 2015629894, 2018552429, 2014160569, 2014812342, 2015241433, 2015633224, 2015938370, 2014994808, 2018682286, 2014920254, 2017952048, 2014899143, 2018459199, 2015659561, 2018886010, 2016111302, 2018528579, 2017559038, 2018248638, 2015560871, 2014569332, 2018652276, 2016701261, 2016308042, 2016310173, 2017705448, 2014399415, 2016268450}\n",
        "frances = {2016268450, 2017608181, 2015981561, 2014964705, 2014655030, 2017687958, 2016162852, 2017223176, 2014759427, 2017290535, 2017031946, 2017042504, 2018916372, 2017757689, 2014922487, 2016080164, 2014792539, 2016110301, 2015200433, 2015667306, 2014891106, 2014748251, 2018911399, 2015008915, 2014976823, 2018870448, 2018230360, 2015896310, 2016403233, 2018036952, 2018223748, 2017106407, 2018928865, 2015808443, 2015490023, 2014680801, 2016797947, 2017169550, 2017741705, 2016449433, 2018701674, 2018681674, 2018822119, 2015629894, 2018552429,}\n",
        "alemao = {2015763941, 2015365994, 2014728861, 2014152867, 2018044073, 2015856913, 2018124856, 2014240183, 2015069118, 2017397627, 2018257434, 2018146279,2018336479, 2016255160, 2016191681, 2017462010, 2015267990, 2018353177,2016316106, 2017534024, 2017435227, 2018485174, 2017511916, 2018252953, 2018230360, 2015896310, 2016403233, 2018036952, 2018223748, 2017106407, 2018928865, 2015808443, 2015490023, 2014680801, 2016797947, 2017169550, 2017741705, 2016449433, 2018701674, 2018681674, 2018822119, 2015629894, 2018552429, 2014160569, 2014812342, 2015241433, 2015633224, 2015938370, 2014994808, 2018682286, 2014920254}"
      ]
    },
    {
      "cell_type": "markdown",
      "metadata": {
        "id": "ZP7aLZTtRrBs"
      },
      "source": [
        "1.1 - Calcule quantos alunos falam apenas inglês e espanhol:\n",
        "\n"
      ]
    },
    {
      "cell_type": "code",
      "execution_count": 3,
      "metadata": {
        "id": "cOpD-g4aRsQB",
        "outputId": "22dfc118-cae6-4347-a146-ad537a2184e0",
        "colab": {
          "base_uri": "https://localhost:8080/"
        }
      },
      "outputs": [
        {
          "output_type": "stream",
          "name": "stdout",
          "text": [
            "Alunos que falam apenas inglês e espanhol: 23\n"
          ]
        }
      ],
      "source": [
        "apenas_ingles_espanhol = (ingles.intersection(espanhol)) - (frances.union(alemao))\n",
        "print(\"Alunos que falam apenas inglês e espanhol:\", len(apenas_ingles_espanhol))\n"
      ]
    },
    {
      "cell_type": "markdown",
      "metadata": {
        "id": "EAbcOQ2DRv4A"
      },
      "source": [
        "1.2 - Calcule quantos alunos falam apenas um idioma:"
      ]
    },
    {
      "cell_type": "code",
      "execution_count": 4,
      "metadata": {
        "id": "I0XlgJdrR0Ve",
        "outputId": "15d30d78-3f2e-406c-9f46-23f2633ee78e",
        "colab": {
          "base_uri": "https://localhost:8080/"
        }
      },
      "outputs": [
        {
          "output_type": "stream",
          "name": "stdout",
          "text": [
            "Alunos que falam apenas um idioma: 0\n"
          ]
        }
      ],
      "source": [
        "todos_alunos = ingles.union(espanhol).union(frances).union(alemao)\n",
        "\n",
        "def conta_idiomas(aluno):\n",
        "    return sum([aluno in idioma for idioma in [ingles, espanhol, frances, alemao]])\n",
        "\n",
        "apenas_um_idioma = {aluno for aluno in todos_alunos if conta_idiomas(aluno) == 1}\n",
        "\n",
        "print(\"Alunos que falam apenas um idioma:\", len(apenas_um_idioma))\n"
      ]
    },
    {
      "cell_type": "markdown",
      "metadata": {
        "id": "Z_HROn0QRs_W"
      },
      "source": [
        "1.3 - Calcule quantos alunos falam dois idiomas:"
      ]
    },
    {
      "cell_type": "code",
      "execution_count": 5,
      "metadata": {
        "id": "TmNx8vBCRz1I",
        "outputId": "fe0b1030-b662-499f-c52c-4647b5c83bd1",
        "colab": {
          "base_uri": "https://localhost:8080/"
        }
      },
      "outputs": [
        {
          "output_type": "stream",
          "name": "stdout",
          "text": [
            "Alunos que falam exatamente dois idiomas: 64\n"
          ]
        }
      ],
      "source": [
        "apenas_dois_idiomas = {aluno for aluno in todos_alunos if conta_idiomas(aluno) == 2}\n",
        "\n",
        "print(\"Alunos que falam exatamente dois idiomas:\", len(apenas_dois_idiomas))\n"
      ]
    },
    {
      "cell_type": "markdown",
      "metadata": {
        "id": "GsztDDtzSLUQ"
      },
      "source": [
        "2 - **[OBI - 2012]** Certa vez, numa aula, a professora passou um filme para os alunos assistirem. Durante este filme, ela passou uma lista de presença em sua sala para verificar a presença dos alunos, onde cada aluno deveria inserir apenas seu número de registro. Alguns alunos contudo, como possuem amigos que fogem da aula, decidiram ser camaradas e inseriram os números de registro de seus amigos fujões. O problema é que muitos alunos são amigos de alunos que fogem da aula e alguns números de registro acabaram sendo repetidamente inseridos na lista de presença. Além de tudo, alguns dos alunos que se esperava que não estivessem na aula de fato estavam!\n",
        "\n",
        "A professora, ao notar que a lista de presença continha alguns números repetidos, ficou sem entender, mas decidiu dar um voto de confiança e dar presença a todos os alunos cujos números de registro estavam na lista. Como são muitos alunos na sala e muitos números com repetição, ela pediu a sua ajuda para determinar o total de alunos que receberam presença na aula."
      ]
    },
    {
      "cell_type": "markdown",
      "metadata": {
        "id": "WpucsZKZS7Sn"
      },
      "source": [
        "**Entrada**\n",
        "\n",
        "A primeira linha da entrada contém um número inteiro N , que informa a quantidade de números de registro que apareceram na lista de presença. Cada uma das N linhas seguintes contém um número de registro Vi que foi inserido na lista de presença.\n",
        "\n",
        "**Saída**\n",
        "Seu programa deve imprimir uma única linha, contendo apenas um número inteiro, o número de alunos que receberam presença."
      ]
    },
    {
      "cell_type": "markdown",
      "metadata": {
        "id": "ptPTsS7kTRyu"
      },
      "source": [
        "| Entrada            \t| Saída \t|\n",
        "|--------------------\t|-------\t|\n",
        "| 3<br> 2<br>3<br>1|   3   \t|"
      ]
    },
    {
      "cell_type": "code",
      "execution_count": 13,
      "metadata": {
        "id": "q7GEc59NTeVk",
        "outputId": "6643d976-9097-46d4-94ba-b87c15ab4d8a",
        "colab": {
          "base_uri": "https://localhost:8080/"
        }
      },
      "outputs": [
        {
          "output_type": "stream",
          "name": "stdout",
          "text": [
            "3\n",
            "2\n",
            "3\n",
            "1\n",
            "3\n"
          ]
        }
      ],
      "source": [
        "N = int(input())\n",
        "registros = set()\n",
        "for _ in range(N):\n",
        "    num = int(input())\n",
        "    registros.add(num)\n",
        "\n",
        "print(len(registros))\n"
      ]
    },
    {
      "cell_type": "markdown",
      "metadata": {
        "id": "hGQloYI5TfFe"
      },
      "source": [
        "3 - **[Continuação]** No dia seguinte, a professora deu um grande sermão para os seus alunos, que se comprometeram a não fugir mais das aulas.\n",
        "Passada uma semana, a professora passou mais um filme para os seus alunos assistirem e a mesma situação se repetiu. Chateada, ela decidiu que, dessa vez, daria falta nos alunos que tinham registro repetido na lista de presença. Mais uma vez, ela pediu a sua ajuda para determinar o total de alunos que receberam presença na aula."
      ]
    },
    {
      "cell_type": "markdown",
      "metadata": {
        "id": "MxbSUPtcTpSQ"
      },
      "source": [
        "**Entrada**\n",
        "\n",
        "A primeira linha da entrada contém um número inteiro N , que informa a quantidade de números de registro que apareceram na lista de presença. Cada uma das N linhas seguintes contém um número de registro Vi que foi inserido na lista de presença.\n",
        "\n",
        "**Saída**\n",
        "\n",
        "Seu programa deve imprimir uma única linha, contendo apenas um número inteiro, o número de alunos que receberam presença.\n"
      ]
    },
    {
      "cell_type": "markdown",
      "metadata": {
        "id": "R3BU7OJbTyJq"
      },
      "source": [
        "| Entrada            \t| Saída \t|\n",
        "|--------------------\t| -------\t|\n",
        "| 15<br>1<br>0<br>5<br>6<br>0<br>12<br>25<br>6<br>2<br>6<br>5<br>0<br>25<br>13<br>2 |    4   \t|"
      ]
    },
    {
      "cell_type": "code",
      "execution_count": 12,
      "metadata": {
        "id": "3YeNjIU4LC3C",
        "outputId": "3cb22f22-a8d2-47f1-ba14-a19002a0b0b1",
        "colab": {
          "base_uri": "https://localhost:8080/"
        }
      },
      "outputs": [
        {
          "output_type": "stream",
          "name": "stdout",
          "text": [
            "15\n",
            "1\n",
            "0\n",
            "5\n",
            "6\n",
            "0\n",
            "12\n",
            "25\n",
            "6\n",
            "2\n",
            "6\n",
            "5\n",
            "0\n",
            "25\n",
            "13\n",
            "2\n",
            "3\n"
          ]
        }
      ],
      "source": [
        "from collections import Counter\n",
        "\n",
        "N = int(input())\n",
        "registros = []\n",
        "\n",
        "for _ in range(N):\n",
        "    num = int(input())\n",
        "    registros.append(num)\n",
        "\n",
        "contagem = Counter(registros)\n",
        "\n",
        "alunos_com_presenca = sum(1 for aluno, freq in contagem.items() if freq == 1)\n",
        "\n",
        "print(alunos_com_presenca)\n"
      ]
    },
    {
      "cell_type": "markdown",
      "metadata": {
        "id": "IjVojH7jM2bS"
      },
      "source": [
        "\n",
        "4 - Crie um programa que compare dois dicionários e verifique se suas chaves possuem o mesmo valor, e crie dois dicionários novos, um com os valores iguais e outro dicionário os com valores diferentes.\n",
        "\n",
        "Ex:\n",
        "\n",
        "`dic1 = { \"key1\": 50, \"key2\": 100, \"key3\": 35, \"key4\": 15}`\n",
        "\n",
        "`dic2 = { \"key1\": 100, \"key2\": 15, \"key3\":25 , \"key4\": 32}`\n",
        "\n",
        "Resultado:\n",
        "\n",
        "`dicIguais = { \"key1\": 100, \"key2\": 15 }`\n",
        "\n",
        "`dicDiferentes = { \"key1\": 50, \"key2\":25, \"key3\":15, \"key4\":35, \"key5\": \"32\" }`"
      ]
    },
    {
      "cell_type": "code",
      "execution_count": 14,
      "metadata": {
        "id": "GYQpgVsuM312",
        "outputId": "40450c59-afdf-4698-df33-4c5f8c71716b",
        "colab": {
          "base_uri": "https://localhost:8080/"
        }
      },
      "outputs": [
        {
          "output_type": "stream",
          "name": "stdout",
          "text": [
            "dicIguais = {}\n",
            "dicDiferentes = {'key1': {'dic1': 50, 'dic2': 100}, 'key3': {'dic1': 35, 'dic2': 25}, 'key2': {'dic1': 100, 'dic2': 15}, 'key4': {'dic1': 15, 'dic2': 32}}\n"
          ]
        }
      ],
      "source": [
        "dic1 = { \"key1\": 50, \"key2\": 100, \"key3\": 35, \"key4\": 15 }\n",
        "dic2 = { \"key1\": 100, \"key2\": 15,  \"key3\": 25, \"key4\": 32 }\n",
        "\n",
        "dicIguais = {}\n",
        "dicDiferentes = {}\n",
        "\n",
        "todas_chaves = set(dic1.keys()).union(set(dic2.keys()))\n",
        "\n",
        "for chave in todas_chaves:\n",
        "    v1 = dic1.get(chave)\n",
        "    v2 = dic2.get(chave)\n",
        "\n",
        "    if v1 == v2 and v1 is not None:\n",
        "        dicIguais[chave] = v1\n",
        "    else:\n",
        "        dicDiferentes[chave] = {\"dic1\": v1, \"dic2\": v2}\n",
        "\n",
        "print(\"dicIguais =\", dicIguais)\n",
        "print(\"dicDiferentes =\", dicDiferentes)\n"
      ]
    },
    {
      "cell_type": "markdown",
      "metadata": {
        "id": "URven1fBqaIn"
      },
      "source": [
        "5 - A professora está elaborando uma prova, e marcando a quantidade de vezes que cada alternativa foi escolhida nas questões como certa.\n",
        "\n",
        "A entrada é dada como uma string, contendo letras de `a` até `e`.\n",
        "\n",
        "Faça um programa que use um dicionário para guardar o número de ocorrências de cada alternativa escolhida.\n",
        "\n",
        "A saída deve ser a quantidade de vezes que cada alternativa foi escolhida, no seguinte formato:\n",
        "\n",
        "\"`A alternativa x foi escolhida n vezes`\"\n",
        "\n",
        "Dica: use `in` para verificar se a chave está no dicionário."
      ]
    },
    {
      "cell_type": "code",
      "execution_count": 15,
      "metadata": {
        "id": "4H5t_XGZqaIn",
        "outputId": "fc2e76b4-d3ff-4786-cca7-9f717801c433",
        "colab": {
          "base_uri": "https://localhost:8080/"
        }
      },
      "outputs": [
        {
          "output_type": "stream",
          "name": "stdout",
          "text": [
            "abcceaa\n",
            "A alternativa a foi escolhida 3 vezes\n",
            "A alternativa b foi escolhida 1 vezes\n",
            "A alternativa c foi escolhida 2 vezes\n",
            "A alternativa d foi escolhida 0 vezes\n",
            "A alternativa e foi escolhida 1 vezes\n"
          ]
        }
      ],
      "source": [
        "respostas = input().strip()\n",
        "\n",
        "contador = {}\n",
        "\n",
        "for alternativa in respostas:\n",
        "    if alternativa in contador:\n",
        "        contador[alternativa] += 1\n",
        "    else:\n",
        "        contador[alternativa] = 1\n",
        "\n",
        "for letra in ['a', 'b', 'c', 'd', 'e']:\n",
        "    vezes = contador.get(letra, 0)\n",
        "    print(f\"A alternativa {letra} foi escolhida {vezes} vezes\")\n"
      ]
    },
    {
      "cell_type": "markdown",
      "metadata": {
        "id": "5hXaJiPcqaIn"
      },
      "source": [
        "6 - Um professor aplicou a prova da Olimpíada Brasileira de Informática e colocou as notas de cada aluno em um dicionário.\n",
        "\n",
        "Agora ele quer organizar outro dicionário para ter uma melhor noção dos resultados.\n",
        "\n",
        "Crie o \"`novoDicionario`\", com as seguintes 5 chaves:\n",
        "\n",
        "- 10:\n",
        "- 9:\n",
        "- 8:\n",
        "- 7:\n",
        "- \"menor que 7\":\n",
        "\n",
        "Para cada chave, o valor associado será uma lista contendo os nomes dos alunos com aquela nota (da chave).\n",
        "\n",
        "Exemplo: Digamos que somente dois alunos, Leonardo e Isaac, tiraram 10, então espera-se que exista a entrada:\n",
        "\n",
        "`10: [\"Leonardo\" , \"Isaac\"]`\n",
        "\n",
        "Também digamos que nenhum aluno teve nota 7, então espera-se a entrada:\n",
        "\n",
        "`7: []`"
      ]
    },
    {
      "cell_type": "code",
      "execution_count": 22,
      "metadata": {
        "id": "gYJr9itrqaIn"
      },
      "outputs": [],
      "source": [
        "nomes = { \"Adeline\": 10, \"Emma\": 1, \"Zora \": 10, \"Lily\": 10, \"Yoli\": 10, \"Brielle\": 10, \"Fiona\": 2, \"Ursula\": 3, \"Randalynn\": 4, \"Quinn\": 6, \"Juliana\": 7, \"Vivi\": 7, \"Nora\": 7, \"Kimber\": 7, \"Xenia\": 7, \"Winona\": 7, \"Crystal\": 8, \"Tianna\": 8, \"Merida\": 8, \"Delilah\": 8, \"Hendrix\": 8, \"Staci\": 8, \"Isabella\": 9, \"Phoenix\": 9, \"Georgia\":9, \"Orion\": 9}\n",
        "\n",
        "\n"
      ]
    },
    {
      "cell_type": "code",
      "source": [
        "novoDicionario = {\n",
        "    10: [],\n",
        "    9: [],\n",
        "    8: [],\n",
        "    7: [],\n",
        "    \"menor que 7\": []\n",
        "}\n",
        "\n",
        "for aluno, nota in nomes.items():\n",
        "    if nota == 10:\n",
        "        novoDicionario[10].append(aluno)\n",
        "    elif nota == 9:\n",
        "        novoDicionario[9].append(aluno)\n",
        "    elif nota == 8:\n",
        "        novoDicionario[8].append(aluno)\n",
        "    elif nota == 7:\n",
        "        novoDicionario[7].append(aluno)\n",
        "    elif nota < 7:\n",
        "        novoDicionario[\"menor que 7\"].append(aluno)\n",
        "\n",
        "for chave, lista in novoDicionario.items():\n",
        "    print(f\"{chave}: {lista}\")"
      ],
      "metadata": {
        "id": "3tQGcLiiz8A3",
        "outputId": "0495580e-877a-4b34-8d76-e4dcc8acb7e0",
        "colab": {
          "base_uri": "https://localhost:8080/"
        }
      },
      "execution_count": 24,
      "outputs": [
        {
          "output_type": "stream",
          "name": "stdout",
          "text": [
            "10: ['Adeline', 'Zora ', 'Lily', 'Yoli', 'Brielle']\n",
            "9: ['Isabella', 'Phoenix', 'Georgia', 'Orion']\n",
            "8: ['Crystal', 'Tianna', 'Merida', 'Delilah', 'Hendrix', 'Staci']\n",
            "7: ['Juliana', 'Vivi', 'Nora', 'Kimber', 'Xenia', 'Winona']\n",
            "menor que 7: ['Emma', 'Fiona', 'Ursula', 'Randalynn', 'Quinn']\n"
          ]
        }
      ]
    },
    {
      "cell_type": "markdown",
      "metadata": {
        "id": "wBH-08ieqaIn"
      },
      "source": [
        "7 - Continuando com o exemplo do Exercício 6, consider que as chaves serão as mesmas, mas vamos mudar os valores. Ao invés de listas vamos usar outros dicionários.\n",
        "\n",
        "Para cada chave, 10, 9, 8, 7 e \"menor que 7\", teremos outro dicionário, com as chaves \"quantidade\" e \"nomes\"\n",
        "\n",
        "Quantidade será o valor inteiro, e nomes será uma lista novamente.\n",
        "\n",
        "Exemplo:\n",
        "\n",
        "Para uma dada entrada, somente dois alunos, Anna e Isaac, tiraram 10 e nenhum aluno tirou 7:"
      ]
    },
    {
      "cell_type": "code",
      "execution_count": 25,
      "metadata": {
        "id": "JT1ssr0sqaIn"
      },
      "outputs": [],
      "source": [
        "notas = {\n",
        "        10: {\n",
        "            \"quantidade\": 2,\n",
        "            \"nomes\": [\"Anna\" , \"Isaac\"]\n",
        "            },\n",
        "\n",
        "        7: {\n",
        "            \"quantidade\": 0,\n",
        "            \"nomes\": []\n",
        "            }\n",
        "        }"
      ]
    },
    {
      "cell_type": "code",
      "source": [
        "novoDicionario = {\n",
        "    10: {\"quantidade\": 0, \"nomes\": []},\n",
        "    9: {\"quantidade\": 0, \"nomes\": []},\n",
        "    8: {\"quantidade\": 0, \"nomes\": []},\n",
        "    7: {\"quantidade\": 0, \"nomes\": []},\n",
        "    \"menor que 7\": {\"quantidade\": 0, \"nomes\": []}\n",
        "}\n",
        "\n",
        "for aluno, nota in nomes.items():\n",
        "    if nota == 10:\n",
        "        novoDicionario[10][\"nomes\"].append(aluno)\n",
        "        novoDicionario[10][\"quantidade\"] += 1\n",
        "    elif nota == 9:\n",
        "        novoDicionario[9][\"nomes\"].append(aluno)\n",
        "        novoDicionario[9][\"quantidade\"] += 1\n",
        "    elif nota == 8:\n",
        "        novoDicionario[8][\"nomes\"].append(aluno)\n",
        "        novoDicionario[8][\"quantidade\"] += 1\n",
        "    elif nota == 7:\n",
        "        novoDicionario[7][\"nomes\"].append(aluno)\n",
        "        novoDicionario[7][\"quantidade\"] += 1\n",
        "    elif nota < 7:\n",
        "        novoDicionario[\"menor que 7\"][\"nomes\"].append(aluno)\n",
        "        novoDicionario[\"menor que 7\"][\"quantidade\"] += 1\n",
        "\n",
        "for chave, dados in novoDicionario.items():\n",
        "    print(f\"{chave}: quantidade = {dados['quantidade']}, nomes = {dados['nomes']}\")"
      ],
      "metadata": {
        "id": "QrQ3XzZEz0O7",
        "outputId": "47502b73-184a-4ab4-ac3f-8cb09cf214de",
        "colab": {
          "base_uri": "https://localhost:8080/"
        }
      },
      "execution_count": 26,
      "outputs": [
        {
          "output_type": "stream",
          "name": "stdout",
          "text": [
            "10: quantidade = 5, nomes = ['Adeline', 'Zora ', 'Lily', 'Yoli', 'Brielle']\n",
            "9: quantidade = 4, nomes = ['Isabella', 'Phoenix', 'Georgia', 'Orion']\n",
            "8: quantidade = 6, nomes = ['Crystal', 'Tianna', 'Merida', 'Delilah', 'Hendrix', 'Staci']\n",
            "7: quantidade = 6, nomes = ['Juliana', 'Vivi', 'Nora', 'Kimber', 'Xenia', 'Winona']\n",
            "menor que 7: quantidade = 5, nomes = ['Emma', 'Fiona', 'Ursula', 'Randalynn', 'Quinn']\n"
          ]
        }
      ]
    }
  ]
}