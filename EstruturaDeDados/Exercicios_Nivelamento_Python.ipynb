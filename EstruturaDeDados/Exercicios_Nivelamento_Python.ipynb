{
  "nbformat": 4,
  "nbformat_minor": 0,
  "metadata": {
    "colab": {
      "provenance": []
    },
    "kernelspec": {
      "name": "python3",
      "display_name": "Python 3"
    },
    "language_info": {
      "name": "python"
    }
  },
  "cells": [
    {
      "cell_type": "markdown",
      "source": [
        "#Lista de Exercício de Revisão de PYTHON"
      ],
      "metadata": {
        "id": "gIlJsEsNwkMj"
      }
    },
    {
      "cell_type": "markdown",
      "source": [
        "##**Questão 1:**\n",
        "Analisando matematicamente as mortes do 7 reinos, o conselheiro Robert descobriu\n",
        "que elas acontecem exponencialmente da seguinte forma: As mortes acontecem\n",
        "exponencialmente de acordo com o número de famílias envolvidas nas batalhas e o\n",
        "tempo. De acordo com o diagrama abaixo. Portanto, escreva um programa no qual a\n",
        "entrada **n** representa o número de família e o resultado seja a seguinte tabela:\n",
        "\n",
        "1 (1 família, nenhuma morte)\n",
        "\n",
        "2 4 (2 familias, 4 mortes no primeiro ano)\n",
        "\n",
        "3 6 9 (3 familias, 6 mortes no primeiro ano, 9 mortes no segundo ano)\n",
        "\n",
        "4 8 12 16\n",
        "\n",
        "n...\n",
        "\n",
        "obs: o programa deve imprimir somente a tabela, sem os comentários"
      ],
      "metadata": {
        "id": "GW8bo_24wqFD"
      }
    },
    {
      "cell_type": "code",
      "source": [
        "n = int(input(\"Digite o número de famílias: \"))\n",
        "\n",
        "for i in range(1, n + 1):\n",
        "    for j in range(1, i + 1):\n",
        "        print(i * j, end=' ')\n",
        "    print()\n"
      ],
      "metadata": {
        "id": "cSmEn4-gwj4O",
        "outputId": "74ee9f04-15fe-4a5c-e584-b9e5cf08072a",
        "colab": {
          "base_uri": "https://localhost:8080/"
        }
      },
      "execution_count": 4,
      "outputs": [
        {
          "output_type": "stream",
          "name": "stdout",
          "text": [
            "Digite o número de famílias: 4\n",
            "1 \n",
            "2 4 \n",
            "3 6 9 \n",
            "4 8 12 16 \n"
          ]
        }
      ]
    },
    {
      "cell_type": "markdown",
      "source": [
        "##**Questão 2:**\n",
        "Dada uma String, encontre o tamanho da maior substring sem repetir\n",
        "caracteres\n",
        "\n",
        "Exemplo1 :\n",
        "\n",
        "**Input**: \"abcabcbb\"\n",
        "\n",
        "**Output**: 3\n",
        "\n",
        "Explicação: A resposta é \"abc\", de tamanho 3.\n",
        "\n",
        "Example 2:\n",
        "\n",
        "**Input**: \"bbbbb”\n",
        "\n",
        "**Output**: 1\n",
        "\n",
        "Explicação: A resposta é \"b\", de tamanho 1.\n",
        "\n",
        "Example 3:\n",
        "\n",
        "**Input**: \"pwwkew\"\n",
        "\n",
        "**Output**: 3\n",
        "\n",
        "Explicação: A resposta é \"wke\", de tamanho 3.\n"
      ],
      "metadata": {
        "id": "GZgSpJyzwudv"
      }
    },
    {
      "cell_type": "code",
      "source": [
        "def maior_substring_sem_repetir(s):\n",
        "    inicio = 0\n",
        "    max_len = 0\n",
        "    usado = {}\n",
        "\n",
        "    for i, char in enumerate(s):\n",
        "        if char in usado and usado[char] >= inicio:\n",
        "            inicio = usado[char] + 1\n",
        "        usado[char] = i\n",
        "        max_len = max(max_len, i - inicio + 1)\n",
        "\n",
        "    return max_len\n",
        "\n",
        "entrada = input(\"Digite uma string: \")\n",
        "print(maior_substring_sem_repetir(entrada))\n"
      ],
      "metadata": {
        "id": "cm95wA0Lyvrw",
        "outputId": "444a90f5-fc62-49a3-a14f-820f3527b1cf",
        "colab": {
          "base_uri": "https://localhost:8080/"
        }
      },
      "execution_count": 8,
      "outputs": [
        {
          "output_type": "stream",
          "name": "stdout",
          "text": [
            "Digite uma string: mariaaaa\n",
            "4\n"
          ]
        }
      ]
    },
    {
      "cell_type": "markdown",
      "metadata": {
        "id": "RVvyffmHwMwT"
      },
      "source": [
        "##**Questão 3:**\n",
        "Desenvolva um jogo da forca. O programa terá uma lista de palavras lidas de uma lista e escolherá uma palavra aleatoriamente. O jogador vai tentar descobrir essa palavra, mas só poderá errar 6 vezes antes de ser enforcado.\n",
        "\n",
        "Digite uma letra: A\n",
        "-> Você errou pela 1ª vez. Tente de novo!\n",
        "\n",
        "Digite uma letra: O\n",
        "A palavra é: _ _ _ _ O\n",
        "\n",
        "Digite uma letra: E\n",
        "A palavra é: _ E _ _ O\n",
        "\n",
        "Digite uma letra: S\n",
        "-> Você errou pela 2ª vez. Tente de novo!\n",
        "\n",
        "Quando errar pela 6ª vez imprimir: Enforcado e exibir a palavra correta"
      ]
    },
    {
      "cell_type": "code",
      "metadata": {
        "id": "Lc1GgcVoIFAe",
        "outputId": "3d556906-948b-4376-9392-f21835d4397b",
        "colab": {
          "base_uri": "https://localhost:8080/"
        }
      },
      "source": [
        "import random\n",
        "\n",
        "def jogar_forca():\n",
        "    palavras = [\"terno\", \"computador\", \"colera\", \"LeonardoaDaVinci\", \"tolkien\"]\n",
        "    palavra_secreta = random.choice(palavras).lower()\n",
        "    letras_descobertas = [\"_\" for _ in palavra_secreta]\n",
        "    letras_tentadas = set()\n",
        "    erros = 0\n",
        "    max_erros = 6\n",
        "\n",
        "    print(\"Bem-vindo ao jogo da forca!\")\n",
        "\n",
        "    while erros < max_erros and \"_\" in letras_descobertas:\n",
        "        print(\"\\nPalavra:\", \" \".join(letras_descobertas))\n",
        "        tentativa = input(\"Digite uma letra: \").lower()\n",
        "\n",
        "        if not tentativa.isalpha() or len(tentativa) != 1:\n",
        "            print(\"Digite apenas uma letra válida.\")\n",
        "            continue\n",
        "\n",
        "        if tentativa in letras_tentadas:\n",
        "            print(\"Você já tentou essa letra. Tente outra.\")\n",
        "            continue\n",
        "\n",
        "        letras_tentadas.add(tentativa)\n",
        "\n",
        "        if tentativa in palavra_secreta:\n",
        "            for i, letra in enumerate(palavra_secreta):\n",
        "                if letra == tentativa:\n",
        "                    letras_descobertas[i] = tentativa\n",
        "        else:\n",
        "            erros += 1\n",
        "            print(f\"Você errou pela {erros}ª vez. Tente de novo!\")\n",
        "\n",
        "    if \"_\" not in letras_descobertas:\n",
        "        print(\"\\nParabéns! Você descobriu a palavra:\", palavra_secreta)\n",
        "    else:\n",
        "        print(\"\\nEnforcado! A palavra era:\", palavra_secreta)\n",
        "\n",
        "jogar_forca()\n"
      ],
      "execution_count": 22,
      "outputs": [
        {
          "output_type": "stream",
          "name": "stdout",
          "text": [
            "Bem-vindo ao jogo da forca!\n",
            "\n",
            "Palavra: _ _ _ _ _ _ _ _ _ _\n",
            "Digite uma letra: a\n",
            "\n",
            "Palavra: _ _ _ _ _ _ a _ _ _\n",
            "Digite uma letra: e\n",
            "Você errou pela 1ª vez. Tente de novo!\n",
            "\n",
            "Palavra: _ _ _ _ _ _ a _ _ _\n",
            "Digite uma letra: i\n",
            "Você errou pela 2ª vez. Tente de novo!\n",
            "\n",
            "Palavra: _ _ _ _ _ _ a _ _ _\n",
            "Digite uma letra: o\n",
            "\n",
            "Palavra: _ o _ _ _ _ a _ o _\n",
            "Digite uma letra: u\n",
            "\n",
            "Palavra: _ o _ _ u _ a _ o _\n",
            "Digite uma letra: r\n",
            "\n",
            "Palavra: _ o _ _ u _ a _ o r\n",
            "Digite uma letra: m\n",
            "\n",
            "Palavra: _ o m _ u _ a _ o r\n",
            "Digite uma letra: p\n",
            "\n",
            "Palavra: _ o m p u _ a _ o r\n",
            "Digite uma letra: d\n",
            "\n",
            "Palavra: _ o m p u _ a d o r\n",
            "Digite uma letra: t\n",
            "\n",
            "Palavra: _ o m p u t a d o r\n",
            "Digite uma letra: c\n",
            "\n",
            "Parabéns! Você descobriu a palavra: computador\n"
          ]
        }
      ]
    },
    {
      "cell_type": "markdown",
      "metadata": {
        "id": "YPgQrI_ZwUEL"
      },
      "source": [
        "##**Questão 4:**\n",
        "\n",
        "Desenvolva um sistema de banco em python. Você deve exibir 6 menus:\n",
        "\n",
        "1. Criar nova conta. Uma nova conta deve conter ID, NOME e SALDO\n",
        "2. Adicionar dinheiro a conta. Adiciona uma quantia (dita pelo usuário) a conta de um ID especifico, mostra quando ficou o saldo final.\n",
        "3. Remover dinheiro da conta. Remove uma quantia (dita pelo usuário) a conta de um ID especifico, mostra quanto ficou o saldo final. Emitir um alerta caso o saldo tenha ficado negativo.\n",
        "4. Mostrar saldo de um nome dado\n",
        "5. Apagar uma conta (apaga todos os dados de um determinado ID)\n",
        "6. Apagar todas as contas\n",
        "\n",
        "ps: lembre-se de tratar exceções, caso o menu selecionado,  ID ou nome sugerido não exista imprimir uma alerta avisando que não existe.\n",
        "\n"
      ]
    },
    {
      "cell_type": "code",
      "metadata": {
        "id": "uRlD1-25Jkcn",
        "outputId": "4e3bd0a1-b9d2-445a-f88f-9223c0db867b",
        "colab": {
          "base_uri": "https://localhost:8080/"
        }
      },
      "source": [
        "contas = {}\n",
        "\n",
        "def criar_conta():\n",
        "    id = input(\"ID: \")\n",
        "    nome = input(\"Nome: \")\n",
        "    saldo = float(input(\"Saldo inicial: \"))\n",
        "    contas[id] = {\"nome\": nome, \"saldo\": saldo}\n",
        "    print(\"Conta criada!\")\n",
        "\n",
        "def adicionar_dinheiro():\n",
        "    id = input(\"ID da conta: \")\n",
        "    if id in contas:\n",
        "        valor = float(input(\"Valor a adicionar: \"))\n",
        "        contas[id][\"saldo\"] += valor\n",
        "        print(\"Saldo atual:\", contas[id][\"saldo\"])\n",
        "    else:\n",
        "        print(\"Conta não encontrada!\")\n",
        "\n",
        "def remover_dinheiro():\n",
        "    id = input(\"ID da conta: \")\n",
        "    if id in contas:\n",
        "        valor = float(input(\"Valor a remover: \"))\n",
        "        contas[id][\"saldo\"] -= valor\n",
        "        print(\"Saldo atual:\", contas[id][\"saldo\"])\n",
        "        if contas[id][\"saldo\"] < 0:\n",
        "            print(\"Alerta: saldo negativo!\")\n",
        "    else:\n",
        "        print(\"Conta não encontrada!\")\n",
        "\n",
        "def mostrar_saldo():\n",
        "    nome = input(\"Nome do titular: \")\n",
        "    for c in contas.values():\n",
        "        if c[\"nome\"] == nome:\n",
        "            print(\"Saldo:\", c[\"saldo\"])\n",
        "            return\n",
        "    print(\"Titular não encontrado!\")\n",
        "\n",
        "def apagar_conta():\n",
        "    id = input(\"ID da conta: \")\n",
        "    if id in contas:\n",
        "        del contas[id]\n",
        "        print(\"Conta apagada!\")\n",
        "    else:\n",
        "        print(\"Conta não encontrada!\")\n",
        "\n",
        "def apagar_todas():\n",
        "    contas.clear()\n",
        "    print(\"Todas as contas foram apagadas.\")\n",
        "\n",
        "# Menu\n",
        "while True:\n",
        "    print(\"\\n1. Criar conta\\n2. Adicionar dinheiro\\n3. Remover dinheiro\\n4. Mostrar saldo\\n5. Apagar conta\\n6. Apagar todas\\n7. Sair\")\n",
        "    op = input(\"Escolha: \")\n",
        "\n",
        "    if op == '1':\n",
        "        criar_conta()\n",
        "    elif op == '2':\n",
        "        adicionar_dinheiro()\n",
        "    elif op == '3':\n",
        "        remover_dinheiro()\n",
        "    elif op == '4':\n",
        "        mostrar_saldo()\n",
        "    elif op == '5':\n",
        "        apagar_conta()\n",
        "    elif op == '6':\n",
        "        apagar_todas()\n",
        "    elif op == '7':\n",
        "        break\n",
        "    else:\n",
        "        print(\"Opção inválida!\")\n"
      ],
      "execution_count": 24,
      "outputs": [
        {
          "name": "stdout",
          "output_type": "stream",
          "text": [
            "\n",
            "1. Criar conta\n",
            "2. Adicionar dinheiro\n",
            "3. Remover dinheiro\n",
            "4. Mostrar saldo\n",
            "5. Apagar conta\n",
            "6. Apagar todas\n",
            "7. Sair\n",
            "Escolha: 1\n",
            "ID: 123456\n",
            "Nome: Maria\n",
            "Saldo inicial: 500\n",
            "Conta criada!\n",
            "\n",
            "1. Criar conta\n",
            "2. Adicionar dinheiro\n",
            "3. Remover dinheiro\n",
            "4. Mostrar saldo\n",
            "5. Apagar conta\n",
            "6. Apagar todas\n",
            "7. Sair\n",
            "Escolha: 1\n",
            "ID: 123456\n",
            "Nome: Maria\n",
            "Saldo inicial: 500\n",
            "Conta criada!\n",
            "\n",
            "1. Criar conta\n",
            "2. Adicionar dinheiro\n",
            "3. Remover dinheiro\n",
            "4. Mostrar saldo\n",
            "5. Apagar conta\n",
            "6. Apagar todas\n",
            "7. Sair\n",
            "Escolha: 2\n",
            "ID da conta: 123453\n",
            "Conta não encontrada!\n",
            "\n",
            "1. Criar conta\n",
            "2. Adicionar dinheiro\n",
            "3. Remover dinheiro\n",
            "4. Mostrar saldo\n",
            "5. Apagar conta\n",
            "6. Apagar todas\n",
            "7. Sair\n",
            "Escolha: 123456\n",
            "Opção inválida!\n",
            "\n",
            "1. Criar conta\n",
            "2. Adicionar dinheiro\n",
            "3. Remover dinheiro\n",
            "4. Mostrar saldo\n",
            "5. Apagar conta\n",
            "6. Apagar todas\n",
            "7. Sair\n",
            "Escolha: 2\n",
            "ID da conta: 123456\n",
            "Valor a adicionar: 100\n",
            "Saldo atual: 600.0\n",
            "\n",
            "1. Criar conta\n",
            "2. Adicionar dinheiro\n",
            "3. Remover dinheiro\n",
            "4. Mostrar saldo\n",
            "5. Apagar conta\n",
            "6. Apagar todas\n",
            "7. Sair\n",
            "Escolha: 4\n",
            "Nome do titular: Maria\n",
            "Saldo: 600.0\n",
            "\n",
            "1. Criar conta\n",
            "2. Adicionar dinheiro\n",
            "3. Remover dinheiro\n",
            "4. Mostrar saldo\n",
            "5. Apagar conta\n",
            "6. Apagar todas\n",
            "7. Sair\n",
            "Escolha: 3\n",
            "ID da conta: 123456\n",
            "Valor a remover: 50\n",
            "Saldo atual: 550.0\n",
            "\n",
            "1. Criar conta\n",
            "2. Adicionar dinheiro\n",
            "3. Remover dinheiro\n",
            "4. Mostrar saldo\n",
            "5. Apagar conta\n",
            "6. Apagar todas\n",
            "7. Sair\n",
            "Escolha: 5\n",
            "ID da conta: 123456\n",
            "Conta apagada!\n",
            "\n",
            "1. Criar conta\n",
            "2. Adicionar dinheiro\n",
            "3. Remover dinheiro\n",
            "4. Mostrar saldo\n",
            "5. Apagar conta\n",
            "6. Apagar todas\n",
            "7. Sair\n",
            "Escolha: 7\n"
          ]
        }
      ]
    },
    {
      "cell_type": "markdown",
      "source": [
        "##**Questão5:**\n",
        "Dado um array agrupe os anagramas\n",
        "\n",
        "Example:\n",
        "\n",
        "Input:\n",
        "[\"eat\", \"tea\", \"tan\", \"ate\", \"nat\", \"bat\"],\n",
        "\n",
        "Output:\n",
        "\n",
        "[ [\"ate\",\"eat\",\"tea\"],\n",
        "\n",
        "[\"nat\",\"tan\"],\n",
        "\n",
        "[\"bat\"] ]\n"
      ],
      "metadata": {
        "id": "NSq2JzcP0IAZ"
      }
    },
    {
      "cell_type": "code",
      "source": [
        "from collections import defaultdict\n",
        "\n",
        "def agrupar_anagramas(palavras):\n",
        "    grupos = defaultdict(list)\n",
        "\n",
        "    for palavra in palavras:\n",
        "        chave = ''.join(sorted(palavra))\n",
        "        grupos[chave].append(palavra)\n",
        "\n",
        "    return list(grupos.values())\n",
        "\n",
        "entrada = [\"roma\", \"mora\", \"nat\", \"tab\",\"amor\", \"bat\", \"atb\", \"arom\", \"tan\"]\n",
        "print(agrupar_anagramas(entrada))\n"
      ],
      "metadata": {
        "id": "WmO-hCJX0UeU",
        "outputId": "a8b55cd7-c596-41f5-e43a-ca72335f6f00",
        "colab": {
          "base_uri": "https://localhost:8080/"
        }
      },
      "execution_count": 28,
      "outputs": [
        {
          "output_type": "stream",
          "name": "stdout",
          "text": [
            "[['roma', 'mora', 'amor', 'arom'], ['nat', 'tan'], ['tab', 'bat', 'atb']]\n"
          ]
        }
      ]
    }
  ]
}